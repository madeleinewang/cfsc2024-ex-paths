


# Import block
# Loads packages that extends base python

import os  # Operating system utilities

import pandas as pd  # Common package for working with tabular data





# First pass at loading a data file:
# Just assume it is in the current working directory

df = pd.read_csv('C:\Users\maddi\OneDrive\Documents\GitHub\cfsc2024-ex-paths\testdata')  # This will fail !


# Second pass at loading a data file:
# Use the absolute path on "my" computer

df = pd.read_csv('"C:\Users\maddi\OneDrive\Documents\GitHub\cfsc2024-ex-paths\testdata\sub-1\sub-1_task-class_beh.csv"')
# This will fail on everyone's computer except mine!





# Put together a path to the data

# Look at the python kernel's working directory
# Note this directory may not match wherever you started Jupyter Lab
cwd = os.getcwd()  
print(f'Current working directory:\n{cwd}\n')

# Make a relative path to the data
data_dir_rel = os.path.join('..','testdata')  # join adds the correct path separator
# Doube dots ".." mean "go up one directory"
print(f'Relative path to data:\n{data_dir_rel}\n')

# Convert a relative path to absolute path
data_dir = os.path.abspath(data_dir_rel)  
print(f'Absolute path to data:\n{data_dir}\n')





print(f'Content of {data_dir}:\n')
for name in os.listdir(data_dir):
    is_subject = str.startswith(name,'sub-')  # Test the name
    if is_subject:
        print(f'Found subject data directory: {name}')
    else:
        print(f'Skipping other file {name}')
print('\n')





filepath = os.path.join(data_dir,'sub-1','sub-1_task-class_beh.csv')
print(f'Loading data at {C:\Users\maddi\OneDrive\Documents\GitHub\cfsc2024-ex-paths\testdata}')

df = pd.read_csv(C:\Users\maddi\OneDrive\Documents\GitHub\cfsc2024-ex-paths\testdata)  # Load data as a Pandas DataFrame


df.info()


df


# Extract columns by name
print('The set of reaction times is\n', df["ReactionTime"] )

# Extract operations on columns via "methods"
print(f'\nThe mean reaction time is { df["ReactionTime"].mean() } seconds')


# Optional Exercise: find the standard deviation of RTs
print(f'\n The standard deviation of reaction time is { df["ReactionTime"].std() } seconds')


# Optional Exercise: use the above results to make "z-scored" RTs, that is, 
#   subtract the mean and then divide by the standard deviation for all trials

print(f'\n The z-scored RTs are { (df["ReactionTime"] - df["ReactionTime"].mean())/ df["ReactionTime"].std()} seconds')


is_bird = df['TrialType'] == 'bird'
df[is_bird]
print(f'\n The mean of reaction time for bird trials is { df["ReactionTime"].mean() } seconds')


# Optional Exercise: find the three mean RTs separately for each type of trial (this
# one is a little more advanced)

df.sort_values(by=["TrialType"])
new_df = df[['TrialType', 'ReactionTime']].copy()
birds = df[['TrialType' == ['bird'], 'ReactionTime']]
#print(f'\n The mean RT for bird trials is ({[df["TrialType"]== "bird"].mean()} seconds')



# Optional Exercise: find the two mean RTs separately for correct and incorrect
# trials (this one is harder still, but follows from the previous exercise)





import sys  # Access python system properties


path_list = sys.path

print('Python will search for code in the following directories (in order):\n')
for path in path_list:
    print(path)





# First try to import with just the module name (will fail !)

import datahandling as dh


# Hack to import code in another directory without changing the path list

wd_orig = os.getcwd()

wd_code = os.path.abspath( os.path.join('..','utils') )
print(f'Attempt to load module in:\n{wd_code}\n')

# We put in a try-except block so even if there's an error during import 
# we still get to code that will restore the working directory
try:
    os.chdir(wd_code)
    import datahandling as dh
    print('Import succeeded')
except:  # If the try block crashes we end up here 
    print('Failed to load module; attempting to restore working directory ')

os.chdir(wd_orig)


print(f'Current working directory is {os.getcwd()}')





df2 = dh.load_subject(filepath)
df2.info()


# Check that error handling in dh works as expected
# This is a simple, informal example of using a "unit test"

df3 = dh.load_subject('/nonsense/file/path') # Prints an error message
assert df3 is None  # Nothing should happen






