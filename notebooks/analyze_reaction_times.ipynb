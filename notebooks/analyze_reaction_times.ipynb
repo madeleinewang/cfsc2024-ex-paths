{
 "cells": [
  {
   "cell_type": "markdown",
   "id": "692b9b8f-b0a4-43ce-a0a6-6645c3a7fe7b",
   "metadata": {
    "editable": true,
    "slideshow": {
     "slide_type": ""
    },
    "tags": []
   },
   "source": [
    "# analyze_reaction_times\n",
    "\n",
    "Performs analysis of reaction time data for subjects categorizing images of animals. The data is simulated and the code is meant only to demonstrate basics of paths and file handling. See the `README.md` for further information.\n",
    "\n",
    "Part of the *Computational Fluency Short Course* offered in 2024 by Brown University's Carney Institute. Intended only for educational purposes; use at your own risk."
   ]
  },
  {
   "cell_type": "code",
   "execution_count": 10,
   "id": "17a3e4a1-c723-4518-a82e-0fc45858a9fc",
   "metadata": {},
   "outputs": [],
   "source": [
    "# Import block\n",
    "# Loads packages that extends base python\n",
    "\n",
    "import os  # Operating system utilities\n",
    "\n",
    "import pandas as pd  # Common package for working with tabular data"
   ]
  },
  {
   "cell_type": "markdown",
   "id": "7651196b-3554-4319-a713-da617aa3776b",
   "metadata": {},
   "source": [
    "## Getting paths to the data\n",
    "\n",
    "As described in the course, different operating systems use slightly different conventions for describing paths. The most notable differences are that Linux and Mac use `/` as a separator while Windows uses `\\`, and the root directory on Linux and Max is `/`, while the Windows root is (usually) `C:\\`.\n",
    "\n",
    "In order to write code that works across operating systems, we have to check the OS and figure out the right convention to use. As a convenience, `python` provides the `os` module that does the work for us.\n",
    "\n",
    "A second issue is that we have to know where the data is, but if we use an absolute path that is correct on our computer, it will break when moved to a different computer. One way we can try to handle this situation is with *relative paths*, assuming we know the working directory set when the notebook starts up (sometimes this breaks also, especially on remote systems, and some troubleshooting is required). By default, opening a notebook within Jupyter Lab sets that notebook's local as the working dirtectory. "
   ]
  },
  {
   "cell_type": "code",
   "execution_count": 25,
   "id": "c15b32c9-9afe-4dc4-bf84-d40cc5452030",
   "metadata": {},
   "outputs": [
    {
     "ename": "SyntaxError",
     "evalue": "(unicode error) 'unicodeescape' codec can't decode bytes in position 2-3: truncated \\UXXXXXXXX escape (1582110552.py, line 4)",
     "output_type": "error",
     "traceback": [
      "\u001b[1;36m  Cell \u001b[1;32mIn[25], line 4\u001b[1;36m\u001b[0m\n\u001b[1;33m    df = pd.read_csv('C:\\Users\\maddi\\OneDrive\\Documents\\GitHub\\cfsc2024-ex-paths\\testdata')  # This will fail !\u001b[0m\n\u001b[1;37m                     ^\u001b[0m\n\u001b[1;31mSyntaxError\u001b[0m\u001b[1;31m:\u001b[0m (unicode error) 'unicodeescape' codec can't decode bytes in position 2-3: truncated \\UXXXXXXXX escape\n"
     ]
    }
   ],
   "source": [
    "# First pass at loading a data file:\n",
    "# Just assume it is in the current working directory\n",
    "\n",
    "df = pd.read_csv('C:\\Users\\maddi\\OneDrive\\Documents\\GitHub\\cfsc2024-ex-paths\\testdata')  # This will fail !"
   ]
  },
  {
   "cell_type": "code",
   "execution_count": 21,
   "id": "ef2298aa-1e39-40eb-a539-36dc43304efa",
   "metadata": {},
   "outputs": [
    {
     "ename": "SyntaxError",
     "evalue": "(unicode error) 'unicodeescape' codec can't decode bytes in position 3-4: truncated \\UXXXXXXXX escape (2220617919.py, line 4)",
     "output_type": "error",
     "traceback": [
      "\u001b[1;36m  Cell \u001b[1;32mIn[21], line 4\u001b[1;36m\u001b[0m\n\u001b[1;33m    df = pd.read_csv('\"C:\\Users\\maddi\\OneDrive\\Documents\\GitHub\\cfsc2024-ex-paths\\testdata\\sub-1\\sub-1_task-class_beh.csv\"')\u001b[0m\n\u001b[1;37m                     ^\u001b[0m\n\u001b[1;31mSyntaxError\u001b[0m\u001b[1;31m:\u001b[0m (unicode error) 'unicodeescape' codec can't decode bytes in position 3-4: truncated \\UXXXXXXXX escape\n"
     ]
    }
   ],
   "source": [
    "# Second pass at loading a data file:\n",
    "# Use the absolute path on \"my\" computer\n",
    "\n",
    "df = pd.read_csv('\"C:\\Users\\maddi\\OneDrive\\Documents\\GitHub\\cfsc2024-ex-paths\\testdata\\sub-1\\sub-1_task-class_beh.csv\"')\n",
    "# This will fail on everyone's computer except mine!"
   ]
  },
  {
   "cell_type": "markdown",
   "id": "e6af8d06-6280-48a1-8818-6688a55018b8",
   "metadata": {},
   "source": [
    "So how do we make a more sharable, portable data load? We need to build a path to a data directory. This repo includes small data files (remember to avoid large files in git repos!) in a directory called testdata.\n",
    "\n",
    "We also use the `os` module to deal with driectory names."
   ]
  },
  {
   "cell_type": "code",
   "execution_count": 23,
   "id": "62ebb5c8-2010-4aa6-aa9e-83e6ef6721b0",
   "metadata": {},
   "outputs": [
    {
     "name": "stdout",
     "output_type": "stream",
     "text": [
      "Current working directory:\n",
      "C:\\Users\\maddi\\OneDrive\\Documents\\GitHub\\cfsc2024-ex-paths\\notebooks\n",
      "\n",
      "Relative path to data:\n",
      "..\\testdata\n",
      "\n",
      "Absolute path to data:\n",
      "C:\\Users\\maddi\\OneDrive\\Documents\\GitHub\\cfsc2024-ex-paths\\testdata\n",
      "\n"
     ]
    }
   ],
   "source": [
    "# Put together a path to the data\n",
    "\n",
    "# Look at the python kernel's working directory\n",
    "# Note this directory may not match wherever you started Jupyter Lab\n",
    "cwd = os.getcwd()  \n",
    "print(f'Current working directory:\\n{cwd}\\n')\n",
    "\n",
    "# Make a relative path to the data\n",
    "data_dir_rel = os.path.join('..','testdata')  # join adds the correct path separator\n",
    "# Doube dots \"..\" mean \"go up one directory\"\n",
    "print(f'Relative path to data:\\n{data_dir_rel}\\n')\n",
    "\n",
    "# Convert a relative path to absolute path\n",
    "data_dir = os.path.abspath(data_dir_rel)  \n",
    "print(f'Absolute path to data:\\n{data_dir}\\n')"
   ]
  },
  {
   "cell_type": "markdown",
   "id": "df85a1d4-d3d6-420e-bfc9-331c7f3e50eb",
   "metadata": {},
   "source": [
    "Now we look in the data directory to find subject-wise subdirectories, and continue down to the data files.\n",
    "\n",
    "**Note**: It's usually a bad idea to blindly loop through everything within a directory. There will often be other kinds of files in there, either intentionally (like an index of subjects) or unintenitionally (automatically generated files and/or dot-files)."
   ]
  },
  {
   "cell_type": "code",
   "execution_count": 26,
   "id": "f05977dc-42fc-4ecb-8dd7-2133e45ef3c2",
   "metadata": {},
   "outputs": [
    {
     "name": "stdout",
     "output_type": "stream",
     "text": [
      "Content of C:\\Users\\maddi\\OneDrive\\Documents\\GitHub\\cfsc2024-ex-paths\\testdata:\n",
      "\n",
      "Skipping other file participants.csv\n",
      "Found subject data directory: sub-1\n",
      "Found subject data directory: sub-2\n",
      "Found subject data directory: sub-3\n",
      "\n",
      "\n"
     ]
    }
   ],
   "source": [
    "print(f'Content of {data_dir}:\\n')\n",
    "for name in os.listdir(data_dir):\n",
    "    is_subject = str.startswith(name,'sub-')  # Test the name\n",
    "    if is_subject:\n",
    "        print(f'Found subject data directory: {name}')\n",
    "    else:\n",
    "        print(f'Skipping other file {name}')\n",
    "print('\\n')"
   ]
  },
  {
   "cell_type": "markdown",
   "id": "6edd1283-72e6-4292-92b2-52794210b1a2",
   "metadata": {},
   "source": [
    "## Manually load some data\n",
    "\n",
    "As a demonstration, we load a single data file, and look at its contents."
   ]
  },
  {
   "cell_type": "code",
   "execution_count": null,
   "id": "f92e94cc-2474-408f-a11b-ca1ce29382fb",
   "metadata": {},
   "outputs": [],
   "source": [
    "filepath = os.path.join(data_dir,'sub-1','sub-1_task-class_beh.csv')\n",
    "print(f'Loading data at {C:\\Users\\maddi\\OneDrive\\Documents\\GitHub\\cfsc2024-ex-paths\\testdata}')\n",
    "\n",
    "df = pd.read_csv(C:\\Users\\maddi\\OneDrive\\Documents\\GitHub\\cfsc2024-ex-paths\\testdata)  # Load data as a Pandas DataFrame"
   ]
  },
  {
   "cell_type": "code",
   "execution_count": 28,
   "id": "70009434-4563-4132-bb2a-fc37773fb567",
   "metadata": {},
   "outputs": [
    {
     "name": "stdout",
     "output_type": "stream",
     "text": [
      "<class 'pandas.core.frame.DataFrame'>\n",
      "RangeIndex: 15 entries, 0 to 14\n",
      "Data columns (total 6 columns):\n",
      " #   Column        Non-Null Count  Dtype  \n",
      "---  ------        --------------  -----  \n",
      " 0   SubjectID     15 non-null     int64  \n",
      " 1   TrialNum      15 non-null     int64  \n",
      " 2   StimulusID    15 non-null     object \n",
      " 3   TrialType     15 non-null     object \n",
      " 4   Response      15 non-null     object \n",
      " 5   ReactionTime  15 non-null     float64\n",
      "dtypes: float64(1), int64(2), object(3)\n",
      "memory usage: 852.0+ bytes\n"
     ]
    }
   ],
   "source": [
    "df.info()"
   ]
  },
  {
   "cell_type": "code",
   "execution_count": 31,
   "id": "cd441a10-4992-4231-8893-3fc8c4bab3c2",
   "metadata": {},
   "outputs": [
    {
     "data": {
      "text/html": [
       "<div>\n",
       "<style scoped>\n",
       "    .dataframe tbody tr th:only-of-type {\n",
       "        vertical-align: middle;\n",
       "    }\n",
       "\n",
       "    .dataframe tbody tr th {\n",
       "        vertical-align: top;\n",
       "    }\n",
       "\n",
       "    .dataframe thead th {\n",
       "        text-align: right;\n",
       "    }\n",
       "</style>\n",
       "<table border=\"1\" class=\"dataframe\">\n",
       "  <thead>\n",
       "    <tr style=\"text-align: right;\">\n",
       "      <th></th>\n",
       "      <th>SubjectID</th>\n",
       "      <th>TrialNum</th>\n",
       "      <th>StimulusID</th>\n",
       "      <th>TrialType</th>\n",
       "      <th>Response</th>\n",
       "      <th>ReactionTime</th>\n",
       "    </tr>\n",
       "  </thead>\n",
       "  <tbody>\n",
       "    <tr>\n",
       "      <th>0</th>\n",
       "      <td>1</td>\n",
       "      <td>1</td>\n",
       "      <td>d05</td>\n",
       "      <td>dog</td>\n",
       "      <td>cat</td>\n",
       "      <td>0.5555</td>\n",
       "    </tr>\n",
       "    <tr>\n",
       "      <th>1</th>\n",
       "      <td>1</td>\n",
       "      <td>2</td>\n",
       "      <td>b04</td>\n",
       "      <td>bird</td>\n",
       "      <td>bird</td>\n",
       "      <td>0.8708</td>\n",
       "    </tr>\n",
       "    <tr>\n",
       "      <th>2</th>\n",
       "      <td>1</td>\n",
       "      <td>3</td>\n",
       "      <td>b01</td>\n",
       "      <td>bird</td>\n",
       "      <td>bird</td>\n",
       "      <td>0.8358</td>\n",
       "    </tr>\n",
       "    <tr>\n",
       "      <th>3</th>\n",
       "      <td>1</td>\n",
       "      <td>4</td>\n",
       "      <td>c02</td>\n",
       "      <td>cat</td>\n",
       "      <td>cat</td>\n",
       "      <td>1.1063</td>\n",
       "    </tr>\n",
       "    <tr>\n",
       "      <th>4</th>\n",
       "      <td>1</td>\n",
       "      <td>5</td>\n",
       "      <td>d03</td>\n",
       "      <td>dog</td>\n",
       "      <td>dog</td>\n",
       "      <td>0.7613</td>\n",
       "    </tr>\n",
       "    <tr>\n",
       "      <th>5</th>\n",
       "      <td>1</td>\n",
       "      <td>6</td>\n",
       "      <td>b05</td>\n",
       "      <td>bird</td>\n",
       "      <td>bird</td>\n",
       "      <td>1.1252</td>\n",
       "    </tr>\n",
       "    <tr>\n",
       "      <th>6</th>\n",
       "      <td>1</td>\n",
       "      <td>7</td>\n",
       "      <td>b03</td>\n",
       "      <td>bird</td>\n",
       "      <td>bird</td>\n",
       "      <td>1.0052</td>\n",
       "    </tr>\n",
       "    <tr>\n",
       "      <th>7</th>\n",
       "      <td>1</td>\n",
       "      <td>8</td>\n",
       "      <td>c05</td>\n",
       "      <td>cat</td>\n",
       "      <td>cat</td>\n",
       "      <td>0.8584</td>\n",
       "    </tr>\n",
       "    <tr>\n",
       "      <th>8</th>\n",
       "      <td>1</td>\n",
       "      <td>9</td>\n",
       "      <td>c04</td>\n",
       "      <td>cat</td>\n",
       "      <td>dog</td>\n",
       "      <td>0.6823</td>\n",
       "    </tr>\n",
       "    <tr>\n",
       "      <th>9</th>\n",
       "      <td>1</td>\n",
       "      <td>10</td>\n",
       "      <td>b02</td>\n",
       "      <td>bird</td>\n",
       "      <td>bird</td>\n",
       "      <td>0.8660</td>\n",
       "    </tr>\n",
       "    <tr>\n",
       "      <th>10</th>\n",
       "      <td>1</td>\n",
       "      <td>11</td>\n",
       "      <td>d02</td>\n",
       "      <td>dog</td>\n",
       "      <td>cat</td>\n",
       "      <td>0.3949</td>\n",
       "    </tr>\n",
       "    <tr>\n",
       "      <th>11</th>\n",
       "      <td>1</td>\n",
       "      <td>12</td>\n",
       "      <td>d01</td>\n",
       "      <td>dog</td>\n",
       "      <td>dog</td>\n",
       "      <td>0.8764</td>\n",
       "    </tr>\n",
       "    <tr>\n",
       "      <th>12</th>\n",
       "      <td>1</td>\n",
       "      <td>13</td>\n",
       "      <td>c03</td>\n",
       "      <td>cat</td>\n",
       "      <td>cat</td>\n",
       "      <td>0.8045</td>\n",
       "    </tr>\n",
       "    <tr>\n",
       "      <th>13</th>\n",
       "      <td>1</td>\n",
       "      <td>14</td>\n",
       "      <td>c01</td>\n",
       "      <td>cat</td>\n",
       "      <td>cat</td>\n",
       "      <td>0.7177</td>\n",
       "    </tr>\n",
       "    <tr>\n",
       "      <th>14</th>\n",
       "      <td>1</td>\n",
       "      <td>15</td>\n",
       "      <td>d04</td>\n",
       "      <td>dog</td>\n",
       "      <td>dog</td>\n",
       "      <td>0.8721</td>\n",
       "    </tr>\n",
       "  </tbody>\n",
       "</table>\n",
       "</div>"
      ],
      "text/plain": [
       "    SubjectID  TrialNum StimulusID TrialType Response  ReactionTime\n",
       "0           1         1        d05       dog      cat        0.5555\n",
       "1           1         2        b04      bird     bird        0.8708\n",
       "2           1         3        b01      bird     bird        0.8358\n",
       "3           1         4        c02       cat      cat        1.1063\n",
       "4           1         5        d03       dog      dog        0.7613\n",
       "5           1         6        b05      bird     bird        1.1252\n",
       "6           1         7        b03      bird     bird        1.0052\n",
       "7           1         8        c05       cat      cat        0.8584\n",
       "8           1         9        c04       cat      dog        0.6823\n",
       "9           1        10        b02      bird     bird        0.8660\n",
       "10          1        11        d02       dog      cat        0.3949\n",
       "11          1        12        d01       dog      dog        0.8764\n",
       "12          1        13        c03       cat      cat        0.8045\n",
       "13          1        14        c01       cat      cat        0.7177\n",
       "14          1        15        d04       dog      dog        0.8721"
      ]
     },
     "execution_count": 31,
     "metadata": {},
     "output_type": "execute_result"
    }
   ],
   "source": [
    "df"
   ]
  },
  {
   "cell_type": "code",
   "execution_count": 33,
   "id": "4469ea10-0ea3-4c6a-8bec-9befce3a7f3b",
   "metadata": {},
   "outputs": [
    {
     "name": "stdout",
     "output_type": "stream",
     "text": [
      "The set of reaction times is\n",
      " 0     0.5555\n",
      "1     0.8708\n",
      "2     0.8358\n",
      "3     1.1063\n",
      "4     0.7613\n",
      "5     1.1252\n",
      "6     1.0052\n",
      "7     0.8584\n",
      "8     0.6823\n",
      "9     0.8660\n",
      "10    0.3949\n",
      "11    0.8764\n",
      "12    0.8045\n",
      "13    0.7177\n",
      "14    0.8721\n",
      "Name: ReactionTime, dtype: float64\n",
      "\n",
      "The mean reaction time is 0.82216 seconds\n"
     ]
    }
   ],
   "source": [
    "# Extract columns by name\n",
    "print('The set of reaction times is\\n', df[\"ReactionTime\"] )\n",
    "\n",
    "# Extract operations on columns via \"methods\"\n",
    "print(f'\\nThe mean reaction time is { df[\"ReactionTime\"].mean() } seconds')"
   ]
  },
  {
   "cell_type": "code",
   "execution_count": 34,
   "id": "3f23d126-317c-4c85-93f2-51badb8a6f35",
   "metadata": {},
   "outputs": [
    {
     "name": "stdout",
     "output_type": "stream",
     "text": [
      "\n",
      " The standard deviation of reaction time is 0.19000804043137604 seconds\n"
     ]
    }
   ],
   "source": [
    "# Optional Exercise: find the standard deviation of RTs\n",
    "print(f'\\n The standard deviation of reaction time is { df[\"ReactionTime\"].std() } seconds')"
   ]
  },
  {
   "cell_type": "code",
   "execution_count": 37,
   "id": "3319abe6-9973-495b-9467-c895deda0604",
   "metadata": {},
   "outputs": [
    {
     "name": "stdout",
     "output_type": "stream",
     "text": [
      "\n",
      " The z-scored RTs are 0    -1.403414\n",
      "1     0.255989\n",
      "2     0.071786\n",
      "3     1.495410\n",
      "4    -0.320302\n",
      "5     1.594880\n",
      "6     0.963328\n",
      "7     0.190729\n",
      "8    -0.736074\n",
      "9     0.230727\n",
      "10   -2.248642\n",
      "11    0.285462\n",
      "12   -0.092943\n",
      "13   -0.549766\n",
      "14    0.262831\n",
      "Name: ReactionTime, dtype: float64 seconds\n"
     ]
    }
   ],
   "source": [
    "# Optional Exercise: use the above results to make \"z-scored\" RTs, that is, \n",
    "#   subtract the mean and then divide by the standard deviation for all trials\n",
    "\n",
    "print(f'\\n The z-scored RTs are { (df[\"ReactionTime\"] - df[\"ReactionTime\"].mean())/ df[\"ReactionTime\"].std()} seconds')"
   ]
  },
  {
   "cell_type": "code",
   "execution_count": 86,
   "id": "4464f1a1-1203-45d4-a54e-ed66365631d5",
   "metadata": {},
   "outputs": [
    {
     "name": "stdout",
     "output_type": "stream",
     "text": [
      "\n",
      " The mean of reaction time for bird trials is 0.82216 seconds\n"
     ]
    }
   ],
   "source": [
    "is_bird = df['TrialType'] == 'bird'\n",
    "df[is_bird]\n",
    "print(f'\\n The mean of reaction time for bird trials is { df[\"ReactionTime\"].mean() } seconds')"
   ]
  },
  {
   "cell_type": "code",
   "execution_count": 81,
   "id": "30dea9eb-f0b3-4da7-ac42-a9efe87fe74f",
   "metadata": {},
   "outputs": [
    {
     "ename": "KeyError",
     "evalue": "'[False] not in index'",
     "output_type": "error",
     "traceback": [
      "\u001b[1;31m---------------------------------------------------------------------------\u001b[0m",
      "\u001b[1;31mKeyError\u001b[0m                                  Traceback (most recent call last)",
      "Cell \u001b[1;32mIn[81], line 6\u001b[0m\n\u001b[0;32m      4\u001b[0m df\u001b[38;5;241m.\u001b[39msort_values(by\u001b[38;5;241m=\u001b[39m[\u001b[38;5;124m\"\u001b[39m\u001b[38;5;124mTrialType\u001b[39m\u001b[38;5;124m\"\u001b[39m])\n\u001b[0;32m      5\u001b[0m new_df \u001b[38;5;241m=\u001b[39m df[[\u001b[38;5;124m'\u001b[39m\u001b[38;5;124mTrialType\u001b[39m\u001b[38;5;124m'\u001b[39m, \u001b[38;5;124m'\u001b[39m\u001b[38;5;124mReactionTime\u001b[39m\u001b[38;5;124m'\u001b[39m]]\u001b[38;5;241m.\u001b[39mcopy()\n\u001b[1;32m----> 6\u001b[0m birds \u001b[38;5;241m=\u001b[39m df[[\u001b[38;5;124m'\u001b[39m\u001b[38;5;124mTrialType\u001b[39m\u001b[38;5;124m'\u001b[39m \u001b[38;5;241m==\u001b[39m [\u001b[38;5;124m'\u001b[39m\u001b[38;5;124mbird\u001b[39m\u001b[38;5;124m'\u001b[39m], \u001b[38;5;124m'\u001b[39m\u001b[38;5;124mReactionTime\u001b[39m\u001b[38;5;124m'\u001b[39m]]\n",
      "File \u001b[1;32m~\\Anaconda_Installer_Brown\\envs\\cfsc2024_paths\\Lib\\site-packages\\pandas\\core\\frame.py:4096\u001b[0m, in \u001b[0;36mDataFrame.__getitem__\u001b[1;34m(self, key)\u001b[0m\n\u001b[0;32m   4094\u001b[0m     \u001b[38;5;28;01mif\u001b[39;00m is_iterator(key):\n\u001b[0;32m   4095\u001b[0m         key \u001b[38;5;241m=\u001b[39m \u001b[38;5;28mlist\u001b[39m(key)\n\u001b[1;32m-> 4096\u001b[0m     indexer \u001b[38;5;241m=\u001b[39m \u001b[38;5;28mself\u001b[39m\u001b[38;5;241m.\u001b[39mcolumns\u001b[38;5;241m.\u001b[39m_get_indexer_strict(key, \u001b[38;5;124m\"\u001b[39m\u001b[38;5;124mcolumns\u001b[39m\u001b[38;5;124m\"\u001b[39m)[\u001b[38;5;241m1\u001b[39m]\n\u001b[0;32m   4098\u001b[0m \u001b[38;5;66;03m# take() does not accept boolean indexers\u001b[39;00m\n\u001b[0;32m   4099\u001b[0m \u001b[38;5;28;01mif\u001b[39;00m \u001b[38;5;28mgetattr\u001b[39m(indexer, \u001b[38;5;124m\"\u001b[39m\u001b[38;5;124mdtype\u001b[39m\u001b[38;5;124m\"\u001b[39m, \u001b[38;5;28;01mNone\u001b[39;00m) \u001b[38;5;241m==\u001b[39m \u001b[38;5;28mbool\u001b[39m:\n",
      "File \u001b[1;32m~\\Anaconda_Installer_Brown\\envs\\cfsc2024_paths\\Lib\\site-packages\\pandas\\core\\indexes\\base.py:6200\u001b[0m, in \u001b[0;36mIndex._get_indexer_strict\u001b[1;34m(self, key, axis_name)\u001b[0m\n\u001b[0;32m   6197\u001b[0m \u001b[38;5;28;01melse\u001b[39;00m:\n\u001b[0;32m   6198\u001b[0m     keyarr, indexer, new_indexer \u001b[38;5;241m=\u001b[39m \u001b[38;5;28mself\u001b[39m\u001b[38;5;241m.\u001b[39m_reindex_non_unique(keyarr)\n\u001b[1;32m-> 6200\u001b[0m \u001b[38;5;28mself\u001b[39m\u001b[38;5;241m.\u001b[39m_raise_if_missing(keyarr, indexer, axis_name)\n\u001b[0;32m   6202\u001b[0m keyarr \u001b[38;5;241m=\u001b[39m \u001b[38;5;28mself\u001b[39m\u001b[38;5;241m.\u001b[39mtake(indexer)\n\u001b[0;32m   6203\u001b[0m \u001b[38;5;28;01mif\u001b[39;00m \u001b[38;5;28misinstance\u001b[39m(key, Index):\n\u001b[0;32m   6204\u001b[0m     \u001b[38;5;66;03m# GH 42790 - Preserve name from an Index\u001b[39;00m\n",
      "File \u001b[1;32m~\\Anaconda_Installer_Brown\\envs\\cfsc2024_paths\\Lib\\site-packages\\pandas\\core\\indexes\\base.py:6252\u001b[0m, in \u001b[0;36mIndex._raise_if_missing\u001b[1;34m(self, key, indexer, axis_name)\u001b[0m\n\u001b[0;32m   6249\u001b[0m     \u001b[38;5;28;01mraise\u001b[39;00m \u001b[38;5;167;01mKeyError\u001b[39;00m(\u001b[38;5;124mf\u001b[39m\u001b[38;5;124m\"\u001b[39m\u001b[38;5;124mNone of [\u001b[39m\u001b[38;5;132;01m{\u001b[39;00mkey\u001b[38;5;132;01m}\u001b[39;00m\u001b[38;5;124m] are in the [\u001b[39m\u001b[38;5;132;01m{\u001b[39;00maxis_name\u001b[38;5;132;01m}\u001b[39;00m\u001b[38;5;124m]\u001b[39m\u001b[38;5;124m\"\u001b[39m)\n\u001b[0;32m   6251\u001b[0m not_found \u001b[38;5;241m=\u001b[39m \u001b[38;5;28mlist\u001b[39m(ensure_index(key)[missing_mask\u001b[38;5;241m.\u001b[39mnonzero()[\u001b[38;5;241m0\u001b[39m]]\u001b[38;5;241m.\u001b[39munique())\n\u001b[1;32m-> 6252\u001b[0m \u001b[38;5;28;01mraise\u001b[39;00m \u001b[38;5;167;01mKeyError\u001b[39;00m(\u001b[38;5;124mf\u001b[39m\u001b[38;5;124m\"\u001b[39m\u001b[38;5;132;01m{\u001b[39;00mnot_found\u001b[38;5;132;01m}\u001b[39;00m\u001b[38;5;124m not in index\u001b[39m\u001b[38;5;124m\"\u001b[39m)\n",
      "\u001b[1;31mKeyError\u001b[0m: '[False] not in index'"
     ]
    }
   ],
   "source": [
    "# Optional Exercise: find the three mean RTs separately for each type of trial (this\n",
    "# one is a little more advanced)\n",
    "\n",
    "df.sort_values(by=[\"TrialType\"])\n",
    "new_df = df[['TrialType', 'ReactionTime']].copy()\n",
    "birds = df[['TrialType' == ['bird'], 'ReactionTime']]\n",
    "#print(f'\\n The mean RT for bird trials is ({[df[\"TrialType\"]== \"bird\"].mean()} seconds')\n"
   ]
  },
  {
   "cell_type": "code",
   "execution_count": null,
   "id": "c9492309-9ca1-48a3-8c2c-ca85556841e3",
   "metadata": {},
   "outputs": [],
   "source": [
    "# Optional Exercise: find the two mean RTs separately for correct and incorrect\n",
    "# trials (this one is harder still, but follows from the previous exercise)"
   ]
  },
  {
   "cell_type": "markdown",
   "id": "8f03d13a-0ab3-42c1-ac83-f4400e2d27ce",
   "metadata": {},
   "source": [
    "## Paths for loading code\n",
    "\n",
    "Sometimes we'd prefer to use our own custom code across multiple notebooks, for example to do some standardized data loading or pre-processing. We then put that code into a module (bassically just a `.py` file) or package, and then `import` it in the notebook.\n",
    "\n",
    "However, the python interpreter needs to know where to look for that code. It searches a \"path list\", that is automatically set when python is launched. "
   ]
  },
  {
   "cell_type": "code",
   "execution_count": null,
   "id": "a2442c52-a57a-4368-af21-c2c902fbd482",
   "metadata": {},
   "outputs": [],
   "source": [
    "import sys  # Access python system properties"
   ]
  },
  {
   "cell_type": "code",
   "execution_count": null,
   "id": "3354da51-a69b-4e68-8fbe-dc982b874da8",
   "metadata": {},
   "outputs": [],
   "source": [
    "path_list = sys.path\n",
    "\n",
    "print('Python will search for code in the following directories (in order):\\n')\n",
    "for path in path_list:\n",
    "    print(path)"
   ]
  },
  {
   "cell_type": "markdown",
   "id": "3733a23f-026a-4404-b6bb-9873b49e3cb0",
   "metadata": {},
   "source": [
    "Note the empty line (it is not missing, it is actually an empty string). Python interprets the empty string as meaning whatever the current working directory is.\n",
    "\n",
    "We thus have several choices to load our code:\n",
    "- Put the module in the same directory as the notebook\n",
    "- Change the working directory to wherever the module is\n",
    "- Change the system path to include the location of the module\n",
    "- Package the module in a way that can be placed in a \"global\" location\n",
    "\n",
    "There are many opinions about best practice, and it often depends on the details of your project (for example, how globally useful the extra code is, and how many people are sharing it). For code that will be reused often, making a package may be the best option, though it takes a little extra work.\n",
    "\n",
    "We will demonstrate a kind of hack that can be useful in simple situations: we change directories to where the code should be, import it, then change back to where we started."
   ]
  },
  {
   "cell_type": "code",
   "execution_count": null,
   "id": "5025bcd9-3b61-4c72-baca-1cd735435d85",
   "metadata": {},
   "outputs": [],
   "source": [
    "# First try to import with just the module name (will fail !)\n",
    "\n",
    "import datahandling as dh"
   ]
  },
  {
   "cell_type": "code",
   "execution_count": null,
   "id": "bb279e0e-014b-4055-973d-2388d0aca698",
   "metadata": {},
   "outputs": [],
   "source": [
    "# Hack to import code in another directory without changing the path list\n",
    "\n",
    "wd_orig = os.getcwd()\n",
    "\n",
    "wd_code = os.path.abspath( os.path.join('..','utils') )\n",
    "print(f'Attempt to load module in:\\n{wd_code}\\n')\n",
    "\n",
    "# We put in a try-except block so even if there's an error during import \n",
    "# we still get to code that will restore the working directory\n",
    "try:\n",
    "    os.chdir(wd_code)\n",
    "    import datahandling as dh\n",
    "    print('Import succeeded')\n",
    "except:  # If the try block crashes we end up here \n",
    "    print('Failed to load module; attempting to restore working directory ')\n",
    "\n",
    "os.chdir(wd_orig)"
   ]
  },
  {
   "cell_type": "code",
   "execution_count": null,
   "id": "41bbe2f6-f078-446d-872b-fdc4705e1ce1",
   "metadata": {},
   "outputs": [],
   "source": [
    "print(f'Current working directory is {os.getcwd()}')"
   ]
  },
  {
   "cell_type": "markdown",
   "id": "09e3e47d-ca18-4c05-953c-6104f68b9794",
   "metadata": {},
   "source": [
    "Now let's use the utilities in `datahandling` to load the data."
   ]
  },
  {
   "cell_type": "code",
   "execution_count": null,
   "id": "48629fac-2466-42fb-b7ae-8027453df509",
   "metadata": {},
   "outputs": [],
   "source": [
    "df2 = dh.load_subject(filepath)\n",
    "df2.info()"
   ]
  },
  {
   "cell_type": "code",
   "execution_count": null,
   "id": "acd23bb7-2fe9-4cfa-93d2-4c83bdebf143",
   "metadata": {},
   "outputs": [],
   "source": [
    "# Check that error handling in dh works as expected\n",
    "# This is a simple, informal example of using a \"unit test\"\n",
    "\n",
    "df3 = dh.load_subject('/nonsense/file/path') # Prints an error message\n",
    "assert df3 is None  # Nothing should happen"
   ]
  },
  {
   "cell_type": "code",
   "execution_count": null,
   "id": "d7ddd1c8-0a68-4c27-b217-ba9deaf2c298",
   "metadata": {},
   "outputs": [],
   "source": []
  },
  {
   "cell_type": "code",
   "execution_count": null,
   "id": "1941c984-17ee-47a1-ae6a-20f22fad5927",
   "metadata": {},
   "outputs": [],
   "source": []
  }
 ],
 "metadata": {
  "kernelspec": {
   "display_name": "Python 3 (ipykernel)",
   "language": "python",
   "name": "python3"
  },
  "language_info": {
   "codemirror_mode": {
    "name": "ipython",
    "version": 3
   },
   "file_extension": ".py",
   "mimetype": "text/x-python",
   "name": "python",
   "nbconvert_exporter": "python",
   "pygments_lexer": "ipython3",
   "version": "3.12.3"
  }
 },
 "nbformat": 4,
 "nbformat_minor": 5
}
